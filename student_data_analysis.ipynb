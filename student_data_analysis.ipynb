{
 "cells": [
  {
   "cell_type": "markdown",
   "id": "924e2175-ff6f-4309-a141-0e4e3b8c5afc",
   "metadata": {},
   "source": [
    "#### 🧪 Step 1: Load the data in Python"
   ]
  },
  {
   "cell_type": "code",
   "execution_count": 1,
   "id": "20bfd70d-3908-4834-b033-a46d0982116f",
   "metadata": {},
   "outputs": [],
   "source": [
    "import pandas as pd\n",
    "\n",
    "# Load the CSV\n",
    "df = pd.read_csv(\"students.csv\")"
   ]
  },
  {
   "cell_type": "code",
   "execution_count": 2,
   "id": "9122c34d-c893-4cb9-a5cb-5891e1b70727",
   "metadata": {},
   "outputs": [
    {
     "name": "stdout",
     "output_type": "stream",
     "text": [
      "      Name  Age Gender  Math  Science  English\n",
      "0    Alice   18      F    85       92       88\n",
      "1      Bob   17      M    78       75       70\n",
      "2  Charlie   19      M    95       85       91\n",
      "3    Diana   18      F    65       70       60\n",
      "4      Eva   17      F    90       88       95\n",
      "5    Frank   19      M    55       60       58\n"
     ]
    }
   ],
   "source": [
    "# Viewing the complete data frame\n",
    "print(df)"
   ]
  },
  {
   "cell_type": "code",
   "execution_count": 3,
   "id": "341902aa-6a0a-44a4-9482-a35ba7107d26",
   "metadata": {},
   "outputs": [
    {
     "name": "stdout",
     "output_type": "stream",
     "text": [
      "      Name  Age Gender  Math  Science  English\n",
      "0    Alice   18      F    85       92       88\n",
      "1      Bob   17      M    78       75       70\n",
      "2  Charlie   19      M    95       85       91\n",
      "3    Diana   18      F    65       70       60\n",
      "4      Eva   17      F    90       88       95\n"
     ]
    }
   ],
   "source": [
    "# Show the first few rows\n",
    "print(df.head())"
   ]
  },
  {
   "cell_type": "markdown",
   "id": "bb766a3d-403e-4ed2-a1a1-3d55fe532a77",
   "metadata": {},
   "source": [
    "#### 🔍 Step 2: Basic Exploration"
   ]
  },
  {
   "cell_type": "code",
   "execution_count": 5,
   "id": "83928f33-206c-4f32-8f84-92d80cd98890",
   "metadata": {},
   "outputs": [
    {
     "name": "stdout",
     "output_type": "stream",
     "text": [
      "<class 'pandas.core.frame.DataFrame'>\n",
      "RangeIndex: 6 entries, 0 to 5\n",
      "Data columns (total 6 columns):\n",
      " #   Column   Non-Null Count  Dtype \n",
      "---  ------   --------------  ----- \n",
      " 0   Name     6 non-null      object\n",
      " 1   Age      6 non-null      int64 \n",
      " 2   Gender   6 non-null      object\n",
      " 3   Math     6 non-null      int64 \n",
      " 4   Science  6 non-null      int64 \n",
      " 5   English  6 non-null      int64 \n",
      "dtypes: int64(4), object(2)\n",
      "memory usage: 420.0+ bytes\n",
      "None\n"
     ]
    }
   ],
   "source": [
    "# Show summary info\n",
    "print(df.info())"
   ]
  },
  {
   "cell_type": "code",
   "execution_count": 6,
   "id": "501aa226-144c-4911-8c90-e70601d45269",
   "metadata": {},
   "outputs": [
    {
     "name": "stdout",
     "output_type": "stream",
     "text": [
      "Name       object\n",
      "Age         int64\n",
      "Gender     object\n",
      "Math        int64\n",
      "Science     int64\n",
      "English     int64\n",
      "dtype: object\n"
     ]
    }
   ],
   "source": [
    "print(df.dtypes)"
   ]
  },
  {
   "cell_type": "code",
   "execution_count": 7,
   "id": "81ff877a-5b90-49a5-a500-313dd7e1946a",
   "metadata": {},
   "outputs": [
    {
     "name": "stdout",
     "output_type": "stream",
     "text": [
      "             Age       Math    Science    English\n",
      "count   6.000000   6.000000   6.000000   6.000000\n",
      "mean   18.000000  78.000000  78.333333  77.000000\n",
      "std     0.894427  15.362291  12.176480  16.370706\n",
      "min    17.000000  55.000000  60.000000  58.000000\n",
      "25%    17.250000  68.250000  71.250000  62.500000\n",
      "50%    18.000000  81.500000  80.000000  79.000000\n",
      "75%    18.750000  88.750000  87.250000  90.250000\n",
      "max    19.000000  95.000000  92.000000  95.000000\n"
     ]
    }
   ],
   "source": [
    "print(df.describe())"
   ]
  },
  {
   "cell_type": "markdown",
   "id": "2e275cae-ce97-4f0b-ab58-eb8e7cef7787",
   "metadata": {},
   "source": [
    "#### 📊 Step 3: Analyze Data"
   ]
  },
  {
   "cell_type": "code",
   "execution_count": 8,
   "id": "f9e0e625-58a5-45a1-bc03-9563d76edd99",
   "metadata": {},
   "outputs": [],
   "source": [
    "# Average marks for each subject\n",
    "avg_math = df[\"Math\"].mean()\n",
    "avg_science = df[\"Science\"].mean()\n",
    "avg_eng = df[\"English\"].mean()"
   ]
  },
  {
   "cell_type": "code",
   "execution_count": 11,
   "id": "94eec7f0-7f66-46b7-88fb-676b26a5aea0",
   "metadata": {},
   "outputs": [
    {
     "name": "stdout",
     "output_type": "stream",
     "text": [
      "Avarage in Math:78\n",
      "Avarage in Science:78\n",
      "Avarage in English:77\n"
     ]
    }
   ],
   "source": [
    "print(f\"Avarage in Math:{round(avg_math)}\\nAvarage in Science:{round(avg_science)}\\nAvarage in English:{round(avg_eng)}\")"
   ]
  },
  {
   "cell_type": "code",
   "execution_count": 13,
   "id": "59698ed4-ec0c-4161-a92e-5a550180304a",
   "metadata": {},
   "outputs": [
    {
     "name": "stdout",
     "output_type": "stream",
     "text": [
      "      Name  Age Gender  Math  Science  English\n",
      "2  Charlie   19      M    95       85       91\n",
      "4      Eva   17      F    90       88       95\n"
     ]
    }
   ],
   "source": [
    "# Students who scored more than 90 in English\n",
    "print(df[df[\"English\"] > 90])"
   ]
  },
  {
   "cell_type": "code",
   "execution_count": 15,
   "id": "0d43a700-46e1-4d30-8c0f-0c2d0e9fb601",
   "metadata": {},
   "outputs": [
    {
     "name": "stdout",
     "output_type": "stream",
     "text": [
      "['Charlie', 'Eva']\n"
     ]
    }
   ],
   "source": [
    "# Student's name who scored more than 90 in English\n",
    "print(list(df[df[\"English\"] > 90][\"Name\"]))"
   ]
  },
  {
   "cell_type": "markdown",
   "id": "720e434b-5ae3-49bb-a44f-8257fe5c99ac",
   "metadata": {},
   "source": [
    "#### 📈 Step 4: Sort & Filter"
   ]
  },
  {
   "cell_type": "code",
   "execution_count": 18,
   "id": "14456696-85c8-4f0d-bd7b-624eebd4b67a",
   "metadata": {},
   "outputs": [
    {
     "name": "stdout",
     "output_type": "stream",
     "text": [
      "      Name  Age Gender  Math  Science  English\n",
      "2  Charlie   19      M    95       85       91\n",
      "4      Eva   17      F    90       88       95\n",
      "0    Alice   18      F    85       92       88\n",
      "1      Bob   17      M    78       75       70\n",
      "3    Diana   18      F    65       70       60\n",
      "5    Frank   19      M    55       60       58\n"
     ]
    }
   ],
   "source": [
    "# Sort students by Math marks (high to low)\n",
    "print(df.sort_values(by=\"Math\",ascending = False))"
   ]
  },
  {
   "cell_type": "code",
   "execution_count": 19,
   "id": "517163f2-26a5-46b0-8758-af1696ea8ba2",
   "metadata": {},
   "outputs": [
    {
     "name": "stdout",
     "output_type": "stream",
     "text": [
      "    Name  Age Gender  Math  Science  English\n",
      "0  Alice   18      F    85       92       88\n",
      "3  Diana   18      F    65       70       60\n",
      "4    Eva   17      F    90       88       95\n"
     ]
    }
   ],
   "source": [
    "# Get only female students\n",
    "print(df[df[\"Gender\"] == \"F\"])"
   ]
  },
  {
   "cell_type": "code",
   "execution_count": 20,
   "id": "a46653ae-d7b3-49a7-a65f-d8561c0070df",
   "metadata": {},
   "outputs": [
    {
     "name": "stdout",
     "output_type": "stream",
     "text": [
      "0    Alice\n",
      "3    Diana\n",
      "4      Eva\n",
      "Name: Name, dtype: object\n"
     ]
    }
   ],
   "source": [
    "# Get only female students\n",
    "print(df[df[\"Gender\"] == \"F\"].Name)"
   ]
  },
  {
   "cell_type": "code",
   "execution_count": 21,
   "id": "8eff8840-934b-402f-aeae-7fe91278154b",
   "metadata": {},
   "outputs": [],
   "source": [
    "# Additional Analysis"
   ]
  },
  {
   "cell_type": "code",
   "execution_count": 26,
   "id": "484228b4-b997-474c-b424-2fe92d0a9bd7",
   "metadata": {},
   "outputs": [
    {
     "data": {
      "text/html": [
       "<div>\n",
       "<style scoped>\n",
       "    .dataframe tbody tr th:only-of-type {\n",
       "        vertical-align: middle;\n",
       "    }\n",
       "\n",
       "    .dataframe tbody tr th {\n",
       "        vertical-align: top;\n",
       "    }\n",
       "\n",
       "    .dataframe thead th {\n",
       "        text-align: right;\n",
       "    }\n",
       "</style>\n",
       "<table border=\"1\" class=\"dataframe\">\n",
       "  <thead>\n",
       "    <tr style=\"text-align: right;\">\n",
       "      <th></th>\n",
       "      <th>Name</th>\n",
       "      <th>Age</th>\n",
       "      <th>Gender</th>\n",
       "      <th>Math</th>\n",
       "      <th>Science</th>\n",
       "      <th>English</th>\n",
       "      <th>Total_Mark</th>\n",
       "    </tr>\n",
       "  </thead>\n",
       "  <tbody>\n",
       "    <tr>\n",
       "      <th>0</th>\n",
       "      <td>Alice</td>\n",
       "      <td>18</td>\n",
       "      <td>F</td>\n",
       "      <td>85</td>\n",
       "      <td>92</td>\n",
       "      <td>88</td>\n",
       "      <td>265</td>\n",
       "    </tr>\n",
       "    <tr>\n",
       "      <th>1</th>\n",
       "      <td>Bob</td>\n",
       "      <td>17</td>\n",
       "      <td>M</td>\n",
       "      <td>78</td>\n",
       "      <td>75</td>\n",
       "      <td>70</td>\n",
       "      <td>223</td>\n",
       "    </tr>\n",
       "    <tr>\n",
       "      <th>2</th>\n",
       "      <td>Charlie</td>\n",
       "      <td>19</td>\n",
       "      <td>M</td>\n",
       "      <td>95</td>\n",
       "      <td>85</td>\n",
       "      <td>91</td>\n",
       "      <td>271</td>\n",
       "    </tr>\n",
       "    <tr>\n",
       "      <th>3</th>\n",
       "      <td>Diana</td>\n",
       "      <td>18</td>\n",
       "      <td>F</td>\n",
       "      <td>65</td>\n",
       "      <td>70</td>\n",
       "      <td>60</td>\n",
       "      <td>195</td>\n",
       "    </tr>\n",
       "    <tr>\n",
       "      <th>4</th>\n",
       "      <td>Eva</td>\n",
       "      <td>17</td>\n",
       "      <td>F</td>\n",
       "      <td>90</td>\n",
       "      <td>88</td>\n",
       "      <td>95</td>\n",
       "      <td>273</td>\n",
       "    </tr>\n",
       "    <tr>\n",
       "      <th>5</th>\n",
       "      <td>Frank</td>\n",
       "      <td>19</td>\n",
       "      <td>M</td>\n",
       "      <td>55</td>\n",
       "      <td>60</td>\n",
       "      <td>58</td>\n",
       "      <td>173</td>\n",
       "    </tr>\n",
       "  </tbody>\n",
       "</table>\n",
       "</div>"
      ],
      "text/plain": [
       "      Name  Age Gender  Math  Science  English  Total_Mark\n",
       "0    Alice   18      F    85       92       88         265\n",
       "1      Bob   17      M    78       75       70         223\n",
       "2  Charlie   19      M    95       85       91         271\n",
       "3    Diana   18      F    65       70       60         195\n",
       "4      Eva   17      F    90       88       95         273\n",
       "5    Frank   19      M    55       60       58         173"
      ]
     },
     "execution_count": 26,
     "metadata": {},
     "output_type": "execute_result"
    }
   ],
   "source": [
    "# Add a new column: Total = Math + Science + English\n",
    "df"
   ]
  },
  {
   "cell_type": "code",
   "execution_count": 27,
   "id": "9efb6c61-5a3d-4f9d-b4f4-14ae50c7f977",
   "metadata": {},
   "outputs": [],
   "source": [
    "df[\"Total_Mark\"] = df[\"Math\"] + df[\"Science\"] + df[\"English\"]"
   ]
  },
  {
   "cell_type": "code",
   "execution_count": 25,
   "id": "1d9335e9-80b9-4701-9cc3-68b088a11e41",
   "metadata": {},
   "outputs": [
    {
     "data": {
      "text/html": [
       "<div>\n",
       "<style scoped>\n",
       "    .dataframe tbody tr th:only-of-type {\n",
       "        vertical-align: middle;\n",
       "    }\n",
       "\n",
       "    .dataframe tbody tr th {\n",
       "        vertical-align: top;\n",
       "    }\n",
       "\n",
       "    .dataframe thead th {\n",
       "        text-align: right;\n",
       "    }\n",
       "</style>\n",
       "<table border=\"1\" class=\"dataframe\">\n",
       "  <thead>\n",
       "    <tr style=\"text-align: right;\">\n",
       "      <th></th>\n",
       "      <th>Name</th>\n",
       "      <th>Age</th>\n",
       "      <th>Gender</th>\n",
       "      <th>Math</th>\n",
       "      <th>Science</th>\n",
       "      <th>English</th>\n",
       "      <th>Total_Mark</th>\n",
       "    </tr>\n",
       "  </thead>\n",
       "  <tbody>\n",
       "    <tr>\n",
       "      <th>0</th>\n",
       "      <td>Alice</td>\n",
       "      <td>18</td>\n",
       "      <td>F</td>\n",
       "      <td>85</td>\n",
       "      <td>92</td>\n",
       "      <td>88</td>\n",
       "      <td>265</td>\n",
       "    </tr>\n",
       "    <tr>\n",
       "      <th>1</th>\n",
       "      <td>Bob</td>\n",
       "      <td>17</td>\n",
       "      <td>M</td>\n",
       "      <td>78</td>\n",
       "      <td>75</td>\n",
       "      <td>70</td>\n",
       "      <td>223</td>\n",
       "    </tr>\n",
       "    <tr>\n",
       "      <th>2</th>\n",
       "      <td>Charlie</td>\n",
       "      <td>19</td>\n",
       "      <td>M</td>\n",
       "      <td>95</td>\n",
       "      <td>85</td>\n",
       "      <td>91</td>\n",
       "      <td>271</td>\n",
       "    </tr>\n",
       "    <tr>\n",
       "      <th>3</th>\n",
       "      <td>Diana</td>\n",
       "      <td>18</td>\n",
       "      <td>F</td>\n",
       "      <td>65</td>\n",
       "      <td>70</td>\n",
       "      <td>60</td>\n",
       "      <td>195</td>\n",
       "    </tr>\n",
       "    <tr>\n",
       "      <th>4</th>\n",
       "      <td>Eva</td>\n",
       "      <td>17</td>\n",
       "      <td>F</td>\n",
       "      <td>90</td>\n",
       "      <td>88</td>\n",
       "      <td>95</td>\n",
       "      <td>273</td>\n",
       "    </tr>\n",
       "    <tr>\n",
       "      <th>5</th>\n",
       "      <td>Frank</td>\n",
       "      <td>19</td>\n",
       "      <td>M</td>\n",
       "      <td>55</td>\n",
       "      <td>60</td>\n",
       "      <td>58</td>\n",
       "      <td>173</td>\n",
       "    </tr>\n",
       "  </tbody>\n",
       "</table>\n",
       "</div>"
      ],
      "text/plain": [
       "      Name  Age Gender  Math  Science  English  Total_Mark\n",
       "0    Alice   18      F    85       92       88         265\n",
       "1      Bob   17      M    78       75       70         223\n",
       "2  Charlie   19      M    95       85       91         271\n",
       "3    Diana   18      F    65       70       60         195\n",
       "4      Eva   17      F    90       88       95         273\n",
       "5    Frank   19      M    55       60       58         173"
      ]
     },
     "execution_count": 25,
     "metadata": {},
     "output_type": "execute_result"
    }
   ],
   "source": [
    "df"
   ]
  },
  {
   "cell_type": "code",
   "execution_count": 28,
   "id": "599ad06e-a27d-42b2-9755-3e24703863b4",
   "metadata": {},
   "outputs": [],
   "source": [
    "# Find out who has the highest total score.\n",
    "hight_score = df[\"Total_Mark\"].max()"
   ]
  },
  {
   "cell_type": "code",
   "execution_count": 29,
   "id": "1ae53ce3-b2f0-4a81-b956-702342715fdb",
   "metadata": {},
   "outputs": [
    {
     "data": {
      "text/plain": [
       "np.int64(273)"
      ]
     },
     "execution_count": 29,
     "metadata": {},
     "output_type": "execute_result"
    }
   ],
   "source": [
    "hight_score"
   ]
  },
  {
   "cell_type": "code",
   "execution_count": 39,
   "id": "70bfc888-fe2f-453c-a123-d77c412a428c",
   "metadata": {},
   "outputs": [
    {
     "name": "stdout",
     "output_type": "stream",
     "text": [
      "Average Total Score (Male): 222\n"
     ]
    }
   ],
   "source": [
    "# Find the average total score for male and female students.\n",
    "avg_male_score = round(df[df[\"Gender\"] == \"M\"][\"Total_Mark\"].mean())\n",
    "print(\"Average Total Score (Male):\", avg_male_score)"
   ]
  },
  {
   "cell_type": "code",
   "execution_count": 40,
   "id": "024edd42-3d59-44bf-b00b-6e9ded947069",
   "metadata": {},
   "outputs": [
    {
     "name": "stdout",
     "output_type": "stream",
     "text": [
      "Average Total Score (Female): 244\n"
     ]
    }
   ],
   "source": [
    "avg_female_score = round(df[df[\"Gender\"] == \"F\"][\"Total_Mark\"].mean())\n",
    "print(\"Average Total Score (Female):\", avg_female_score)"
   ]
  },
  {
   "cell_type": "code",
   "execution_count": 43,
   "id": "1cb2378e-025f-4e65-a246-9cf52b0f73b7",
   "metadata": {},
   "outputs": [
    {
     "name": "stdout",
     "output_type": "stream",
     "text": [
      "Average Total Marks: 233\n",
      "Male  : 222\n",
      "Female: 244\n"
     ]
    }
   ],
   "source": [
    "print(\"Average Total Marks:\",round(df[\"Total_Mark\"].mean()))\n",
    "print(\"Male  :\", avg_male_score)\n",
    "print(\"Female:\", avg_female_score)"
   ]
  },
  {
   "cell_type": "code",
   "execution_count": 44,
   "id": "041e1131-1c22-461f-99c8-56e7ce443611",
   "metadata": {
    "collapsed": true,
    "jupyter": {
     "outputs_hidden": true,
     "source_hidden": true
    }
   },
   "outputs": [
    {
     "name": "stdout",
     "output_type": "stream",
     "text": [
      "Requirement already satisfied: matplotlib in c:\\users\\dell\\appdata\\local\\programs\\python\\python313\\lib\\site-packages (3.10.1)\n",
      "Requirement already satisfied: contourpy>=1.0.1 in c:\\users\\dell\\appdata\\local\\programs\\python\\python313\\lib\\site-packages (from matplotlib) (1.3.2)\n",
      "Requirement already satisfied: cycler>=0.10 in c:\\users\\dell\\appdata\\local\\programs\\python\\python313\\lib\\site-packages (from matplotlib) (0.12.1)\n",
      "Requirement already satisfied: fonttools>=4.22.0 in c:\\users\\dell\\appdata\\local\\programs\\python\\python313\\lib\\site-packages (from matplotlib) (4.57.0)\n",
      "Requirement already satisfied: kiwisolver>=1.3.1 in c:\\users\\dell\\appdata\\local\\programs\\python\\python313\\lib\\site-packages (from matplotlib) (1.4.8)\n",
      "Requirement already satisfied: numpy>=1.23 in c:\\users\\dell\\appdata\\local\\programs\\python\\python313\\lib\\site-packages (from matplotlib) (2.2.4)\n",
      "Requirement already satisfied: packaging>=20.0 in c:\\users\\dell\\appdata\\local\\programs\\python\\python313\\lib\\site-packages (from matplotlib) (24.2)\n",
      "Requirement already satisfied: pillow>=8 in c:\\users\\dell\\appdata\\local\\programs\\python\\python313\\lib\\site-packages (from matplotlib) (11.2.1)\n",
      "Requirement already satisfied: pyparsing>=2.3.1 in c:\\users\\dell\\appdata\\local\\programs\\python\\python313\\lib\\site-packages (from matplotlib) (3.2.3)\n",
      "Requirement already satisfied: python-dateutil>=2.7 in c:\\users\\dell\\appdata\\local\\programs\\python\\python313\\lib\\site-packages (from matplotlib) (2.9.0.post0)\n",
      "Requirement already satisfied: six>=1.5 in c:\\users\\dell\\appdata\\local\\programs\\python\\python313\\lib\\site-packages (from python-dateutil>=2.7->matplotlib) (1.17.0)\n"
     ]
    },
    {
     "name": "stderr",
     "output_type": "stream",
     "text": [
      "\n",
      "[notice] A new release of pip is available: 25.0.1 -> 25.1.1\n",
      "[notice] To update, run: python.exe -m pip install --upgrade pip\n"
     ]
    }
   ],
   "source": [
    "!pip install matplotlib "
   ]
  },
  {
   "cell_type": "code",
   "execution_count": 45,
   "id": "721efc13-dbce-48a2-8a63-42fe71af6d82",
   "metadata": {},
   "outputs": [
    {
     "data": {
      "image/png": "[encoded data removed]",
      "text/plain": [
       "<Figure size 640x480 with 1 Axes>"
      ]
     },
     "metadata": {},
     "output_type": "display_data"
    }
   ],
   "source": [
    "import matplotlib.pyplot as plt\n",
    "\n",
    "# Bar chart of Math scores\n",
    "plt.bar(df[\"Name\"], df[\"Math\"])\n",
    "plt.title(\"Math Scores by Student\")\n",
    "plt.xlabel(\"Name\")\n",
    "plt.ylabel(\"Score\")\n",
    "plt.show()\n"
   ]
  },
  {
   "cell_type": "code",
   "execution_count": 49,
   "id": "06841156-ffee-47f6-9f52-198c953b1e13",
   "metadata": {},
   "outputs": [
    {
     "data": {
      "image/png": "[encoded data removed]",
      "text/plain": [
       "<Figure size 640x480 with 1 Axes>"
      ]
     },
     "metadata": {},
     "output_type": "display_data"
    }
   ],
   "source": [
    "# Bar chart of Science scores\n",
    "plt.bar(df[\"Name\"], df[\"Science\"])\n",
    "plt.title(\"Science Scores by Student\")\n",
    "plt.xlabel(\"Name\")\n",
    "plt.ylabel(\"Score\")\n",
    "plt.show()"
   ]
  },
  {
   "cell_type": "code",
   "execution_count": 48,
   "id": "661b0f41-a630-4c7d-af77-202543d29f3a",
   "metadata": {},
   "outputs": [
    {
     "data": {
      "image/png": "[encoded data removed]",
      "text/plain": [
       "<Figure size 640x480 with 1 Axes>"
      ]
     },
     "metadata": {},
     "output_type": "display_data"
    }
   ],
   "source": [
    "# Bar chart of English scores\n",
    "plt.bar(df[\"Name\"], df[\"English\"])\n",
    "plt.title(\"English Scores by Student\")\n",
    "plt.xlabel(\"Name\")\n",
    "plt.ylabel(\"Score\")\n",
    "plt.show()"
   ]
  },
  {
   "cell_type": "code",
   "execution_count": null,
   "id": "7650a06f-a7e0-4192-96b2-cbd5da87a767",
   "metadata": {},
   "outputs": [],
   "source": []
  }
 ],
 "metadata": {
  "kernelspec": {
   "display_name": "Python 3 (ipykernel)",
   "language": "python",
   "name": "python3"
  },
  "language_info": {
   "codemirror_mode": {
    "name": "ipython",
    "version": 3
   },
   "file_extension": ".py",
   "mimetype": "text/x-python",
   "name": "python",
   "nbconvert_exporter": "python",
   "pygments_lexer": "ipython3",
   "version": "3.13.1"
  }
 },
 "nbformat": 4,
 "nbformat_minor": 5
}
